{
 "cells": [
  {
   "cell_type": "markdown",
   "id": "25d7736c-ba17-4aff-b6bb-66eba20fbf4e",
   "metadata": {},
   "source": [
    "# Lab | List, Dict and Set Comprehension"
   ]
  },
  {
   "cell_type": "markdown",
   "id": "7dd3cbde-675a-4b81-92c3-f728846dbe06",
   "metadata": {},
   "source": [
    "## Exercise: Managing Customer Orders Optimized with Comprehension"
   ]
  },
  {
   "cell_type": "markdown",
   "id": "5d500160-2fb7-4777-b5e4-09d45ebaf328",
   "metadata": {},
   "source": [
    "In the previous exercise, you developed a program to manage customer orders and inventory. Now, let's take it a step further and incorporate comprehension into your code.\n",
    "\n",
    "Follow the steps below to complete the exercise:\n",
    "\n",
    "1. Review your code from the previous exercise and identify areas where you can apply comprehension to simplify and streamline your code. \n",
    "\n",
    "    - *Hint: Apply it to initialize inventory, updating the inventory and printing the updated inventory.*\n",
    "    \n",
    "    - For example, in initializing the inventory, we could have:\n",
    "    \n",
    "        ```python\n",
    "        def initialize_inventory(products):\n",
    "            inventory = {product: int(input(f\"Enter the quantity of {product}s available: \")) for product in products}\n",
    "            return inventory\n",
    "\n",
    "        ```\n",
    "<br>\n",
    "    \n",
    "    \n",
    "2. Modify the function get_customer_orders so it prompts the user to enter the number of customer orders and gathers the product names using a loop and user input. Use comprehension.\n",
    "\n",
    "3. Add a new function to calculate the total price of the customer order. For each product in customer_orders, prompt the user to enter the price of that product. Use comprehension to calculate the total price. Note: assume that the user can only have 1 unit of each product.\n",
    "\n",
    "4. Modify the update_inventory function to remove the product from the inventory if its quantity becomes zero after fulfilling the customer orders. Use comprehension to filter out the products with a quantity of zero from the inventory.\n",
    "\n",
    "5. Print the total price of the customer order.\n",
    "\n",
    "Your code should produce output similar to the following:\n",
    "\n",
    "```python\n",
    "Enter the quantity of t-shirts available:  5\n",
    "Enter the quantity of mugs available:  4\n",
    "Enter the quantity of hats available:  3\n",
    "Enter the quantity of books available:  2\n",
    "Enter the quantity of keychains available:  1\n",
    "Enter the number of customer orders:  2\n",
    "Enter the name of a product that a customer wants to order:  hat\n",
    "Enter the name of a product that a customer wants to order:  keychain\n",
    "\n",
    "Order Statistics:\n",
    "Total Products Ordered: 2\n",
    "Percentage of Unique Products Ordered: 40.0\n",
    "\n",
    "Updated Inventory:\n",
    "t-shirt: 5\n",
    "mug: 4\n",
    "hat: 2\n",
    "book: 2\n",
    "Enter the price of keychain:  5\n",
    "Enter the price of hat:  10\n",
    "Total Price: 15.0\n",
    "\n",
    "```\n"
   ]
  },
  {
   "cell_type": "code",
   "execution_count": 2,
   "id": "7c2e416d",
   "metadata": {},
   "outputs": [
    {
     "name": "stdout",
     "output_type": "stream",
     "text": [
      "{'apple': 2, 'pear': 3}\n"
     ]
    }
   ],
   "source": [
    "# 1.Review your code from the previous exercise and identify areas where you can apply comprehension to simplify and streamline your code. \n",
    "\n",
    "products=[\"apple\", \"pear\"]\n",
    "def initialize_inventory(products):\n",
    "            inventory = {product: int(input(f\"Enter the quantity of {product}s available: \")) for product in products}\n",
    "            return inventory\n",
    "\n",
    "print(initialize_inventory(products))\n"
   ]
  },
  {
   "cell_type": "code",
   "execution_count": 3,
   "id": "6e6dd8f9",
   "metadata": {},
   "outputs": [],
   "source": [
    "#2.Modify the function get_customer_orders so it prompts the user to enter the number of \n",
    "#customer orders and gathers the product names using a loop and user input. Use comprehension.\n",
    "\n",
    "def get_customer_orders():\n",
    "    num_orders = int(input(\"Enter the number of orders: \"))  # Ask for the number of orders\n",
    "    orders = [input(f\"Enter product name for order #{i + 1}: \") for i in range(num_orders)]\n",
    "    return orders\n",
    "    \n",
    "\n",
    "\n"
   ]
  },
  {
   "cell_type": "code",
   "execution_count": 4,
   "id": "4b33f5d5",
   "metadata": {},
   "outputs": [
    {
     "name": "stdout",
     "output_type": "stream",
     "text": [
      "['apple', 'pear']\n",
      "Total price: $5.00\n"
     ]
    }
   ],
   "source": [
    "#3. Add a new function to calculate the total price of the customer order. \n",
    "# For each product in customer_orders, prompt the user to enter the price of that product. \n",
    "# Use comprehension to calculate the total price. Note: assume that the user can only have 1 unit of each product.\n",
    "\n",
    "\n",
    "def calculate_total_price(customer_orders):\n",
    "    total = sum([float(input(f\"Enter price for '{product}': \")) for product in customer_orders])\n",
    "    return total\n",
    "\n",
    "\n",
    "# Example usage\n",
    "orders = get_customer_orders()\n",
    "total = calculate_total_price(orders)\n",
    "print(orders)\n",
    "print(f\"Total price: ${total:.2f}\")\n"
   ]
  },
  {
   "cell_type": "code",
   "execution_count": 5,
   "id": "adcc2e0f",
   "metadata": {},
   "outputs": [
    {
     "name": "stdout",
     "output_type": "stream",
     "text": [
      "Customer Orders: {'apple': 2.0, 'pear': 3.0, 'orange': 1.0}\n",
      "Total Price: $6.00\n"
     ]
    }
   ],
   "source": [
    "#Extra: make dictionary with products and prices\n",
    "\n",
    "def get_customer_orders_with_prices():\n",
    "    num_orders_2 = int(input(\"Enter the number of customer orders: \"))\n",
    "    orders_2 = {\n",
    "        input(f\"Enter product name for order #{i + 1}: \"): float(input(\"Enter price for that product: \"))\n",
    "        for i in range(num_orders_2)\n",
    "    }\n",
    "    total_2 = sum(orders_2.values())\n",
    "    return orders_2, total_2  # Returning both the dictionary and total\n",
    "\n",
    "# Call the function and store the result\n",
    "orders, total = get_customer_orders_with_prices()  # Unpacking the returned tuple\n",
    "\n",
    "# Print the dictionary and total price\n",
    "print(\"Customer Orders:\", orders)\n",
    "print(f\"Total Price: ${total:.2f}\")\n",
    "\n"
   ]
  },
  {
   "cell_type": "code",
   "execution_count": 7,
   "id": "9f5d9b90",
   "metadata": {},
   "outputs": [],
   "source": [
    "#4. Modify the update_inventory function to remove the product from the inventory if its quantity becomes zero after fulfilling the customer orders. \n",
    "# Use comprehension to filter out the products with a quantity of zero from the inventory.\n",
    "\n",
    "def update_inventory(get_customer_orders, inventory):\n",
    "    # Process each customer order\n",
    "    for product in get_customer_orders:\n",
    "        product = product.lower()\n",
    "        \n",
    "        if product in inventory:\n",
    "            if inventory[product] > 0:\n",
    "                inventory[product] -= 1\n",
    "                print(f\"Updated inventory: {product} now has {inventory[product]} left.\")\n",
    "            else:\n",
    "                print(f\"Sorry, {product} is out of stock!\")\n",
    "        else:\n",
    "            print(f\"{product} is not available in the inventory.\")\n",
    "    \n",
    "    # Remove products with quantity zero from the inventory using comprehension\n",
    "    inventory = {product: quantity for product, quantity in inventory.items() if quantity > 0}\n",
    "    \n",
    "    return inventory\n",
    "\n",
    "\n"
   ]
  }
 ],
 "metadata": {
  "kernelspec": {
   "display_name": "Python 3",
   "language": "python",
   "name": "python3"
  },
  "language_info": {
   "codemirror_mode": {
    "name": "ipython",
    "version": 3
   },
   "file_extension": ".py",
   "mimetype": "text/x-python",
   "name": "python",
   "nbconvert_exporter": "python",
   "pygments_lexer": "ipython3",
   "version": "3.12.9"
  }
 },
 "nbformat": 4,
 "nbformat_minor": 5
}
